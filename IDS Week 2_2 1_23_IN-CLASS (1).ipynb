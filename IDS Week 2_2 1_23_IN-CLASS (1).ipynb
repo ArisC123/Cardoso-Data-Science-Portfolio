{
 "cells": [
  {
   "cell_type": "markdown",
   "metadata": {
    "id": "RdoTAcVjo1Jo"
   },
   "source": [
    "# Introduction to Testing in Python\n",
    "\n",
    "## Why Test Code?\n",
    "- Testing ensures your code behaves as expected.\n",
    "- It helps you catch errors early, saving time in debugging.\n",
    "- Good testing improves code quality and makes collaboration easier.\n",
    "\n",
    "## Types of Tests\n",
    "- **Unit Tests**: Test individual functions or methods.\n",
    "- **Integration Tests**: Test how components work together.\n",
    "- **End-to-End Tests**: Simulate user interactions in a full application.\n",
    "\n",
    "## What Will You Learn Today?\n",
    "1. How to write and run tests using Python’s `pytest`.\n",
    "2. How to handle edge cases through testing.\n",
    "3. How to collaborate to design and implement new tests.\n",
    "\n",
    "Let's start by writing a small program and testing it."
   ]
  },
  {
   "cell_type": "code",
   "execution_count": 4,
   "metadata": {
    "id": "1EA-VLIHo-d8"
   },
   "outputs": [],
   "source": [
    "# Starter Code: DataAnalyzer Class\n",
    "import statistics\n",
    "\n",
    "class DataAnalyzer:\n",
    "    def __init__(self, data):\n",
    "        \"\"\"\n",
    "        Initializes the DataAnalyzer with a list of numeric values.\n",
    "        \"\"\"\n",
    "        self.data = data\n",
    "\n",
    "    def mean(self):\n",
    "        \"\"\"Calculates the mean of the numeric data.\"\"\"\n",
    "        return statistics.mean(self.data)"
   ]
  },
  {
   "cell_type": "code",
   "execution_count": null,
   "metadata": {},
   "outputs": [],
   "source": [
    "first_class = DataAnalyzer([4,5,6])\n",
    "first_class.mean()"
   ]
  },
  {
   "cell_type": "markdown",
   "metadata": {
    "id": "hFz9OjkfpE5a"
   },
   "source": [
    "## Writing Your First Test\n",
    "\n",
    "Testing in Python often uses the `pytest` library. Let's write our first test for the `mean` method in the `DataAnalyzer` class.\n",
    "\n",
    "- **Arrange**: Set up the input data.\n",
    "- **Act**: Call the function you want to test.\n",
    "- **Assert**: Verify that the result matches your expectations."
   ]
  },
  {
   "cell_type": "code",
   "execution_count": null,
   "metadata": {},
   "outputs": [],
   "source": [
    "#assert tells python to test the code we give it\n",
    "#"
   ]
  },
  {
   "cell_type": "code",
   "execution_count": 6,
   "metadata": {
    "id": "BS9Gzxv6pDje"
   },
   "outputs": [],
   "source": [
    "# First Test: test_mean\n",
    "def test_mean(data_list, mean_value):\n",
    "    \"\"\"\n",
    "    Test the mean function of DataAnalyzer with a list of numbers\n",
    "    \"\"\"\n",
    "    analyzer = DataAnalyzer(data_list)\n",
    "    assert analyzer.mean() == mean_value\n"
   ]
  },
  {
   "cell_type": "code",
   "execution_count": null,
   "metadata": {
    "colab": {
     "base_uri": "https://localhost:8080/"
    },
    "executionInfo": {
     "elapsed": 174,
     "status": "ok",
     "timestamp": 1737630082536,
     "user": {
      "displayName": "David Smiley",
      "userId": "04196970161563073370"
     },
     "user_tz": 300
    },
    "id": "FPIyDQ6RpK_B",
    "outputId": "b335ebbc-a67b-4c4d-f5e7-2a5815f633b1"
   },
   "outputs": [],
   "source": [
    "# Run the test\n",
    "#try-except\n",
    "try: \n",
    "    test_mean([25,50,75], 50)\n",
    "    print('test_mean passed')\n",
    "except AssertionError: \n",
    "    print('test_mean failed')\n"
   ]
  },
  {
   "cell_type": "markdown",
   "metadata": {
    "id": "96YeUygspXc_"
   },
   "source": [
    "## Adding `median` and `mode` Methods\n",
    "\n",
    "Now, let's extend the `DataAnalyzer` class by adding a method to calculate the median.\n",
    "Afterward, we will write a new test for this method."
   ]
  },
  {
   "cell_type": "code",
   "execution_count": null,
   "metadata": {
    "id": "ufJqQm7ppaWo"
   },
   "outputs": [],
   "source": [
    "# Modify DataAnalyzer: Add median method\n",
    "class DataAnalyzer:\n",
    "    def __init__(self, data):\n",
    "        self.data = data\n",
    "\n",
    "    def mean(self):\n",
    "        return statistics.mean(self.data)\n",
    "\n",
    "\n",
    "    def median(self):\n",
    "        \"\"\"Calculates the median of the numeric data.\"\"\"\n",
    "        return statistics.median(self.data)\n",
    "\n",
    "\n",
    "    def mode(self):\n",
    "        \"\"\"Calculates the median of the numeric data.\"\"\"\n",
    "        return statistics.mode(self.data)\n",
    "\n",
    "\n",
    "# Create test function for median\n",
    "def test_median(data_list, median_value):\n",
    "    analyzermedian = DataAnalyzer(data_list)\n",
    "    assert analyzermedian.median() == median_value\n",
    "\n",
    "\n",
    "# Create test function for mode\n",
    "def test_mode(data_list, mode_value):\n",
    "    analyzermode = DataAnalyzer(data_list)\n",
    "    assert analyzermode.mode() == mode_value\n",
    "\n",
    "\n",
    "# Run test functions\n",
    "try: \n",
    "    test_median([25,50,75], 50)\n",
    "    print(\"test_median passed\")\n",
    "except AssertionError:\n",
    "    print(\"test_median failed\")\n",
    "\n",
    "try: \n",
    "    test_mode([25,50,75,25], 25)\n",
    "    print(\"test_mode passed\")\n",
    "except AssertionError:\n",
    "    print(\"test_mode failed\")"
   ]
  },
  {
   "cell_type": "markdown",
   "metadata": {
    "id": "HO7wAQRMsZMy"
   },
   "source": [
    "## Investigating Edge Cases\n",
    "\n",
    "What happens if:\n",
    "1. The list of numbers is empty?\n",
    "2. The list contains non-numeric data?\n",
    "\n",
    "Let's write two new test functions to handle these scenarios:\n",
    "- **test_empty_list**\n",
    "- **test_non_numeric_data**"
   ]
  },
  {
   "cell_type": "code",
   "execution_count": null,
   "metadata": {
    "id": "PmlAAe3N9cdk"
   },
   "outputs": [],
   "source": [
    "empty_list = []\n",
    "DataAnalyzer(empty_list).mean() # Trying to run an empty list leads to a StatisticsError"
   ]
  },
  {
   "cell_type": "code",
   "execution_count": null,
   "metadata": {
    "id": "TiHrGzMf9rAK"
   },
   "outputs": [],
   "source": [
    "non_num_list = [\"a\", \"b\", \"c\"]\n",
    "DataAnalyzer(non_num_list).mean() # Trying to run an empty list leads to a TypeError"
   ]
  },
  {
   "cell_type": "markdown",
   "metadata": {
    "id": "_Aew4Wgg2dih"
   },
   "source": [
    "#### `test_empty_list`\n",
    "- **Purpose**: Ensures the `mean` method raises an error when called with an empty list.\n",
    "- **Key Points**:\n",
    "  - An empty list cannot have a mean, so the method should raise an error.\n",
    "  - Uses `pytest.raises` to check for `statistics.StatisticsError`."
   ]
  },
  {
   "cell_type": "code",
   "execution_count": 24,
   "metadata": {
    "id": "CJ4SgG-Mc4nH"
   },
   "outputs": [
    {
     "ename": "ModuleNotFoundError",
     "evalue": "No module named 'pytest'",
     "output_type": "error",
     "traceback": [
      "\u001b[0;31m---------------------------------------------------------------------------\u001b[0m",
      "\u001b[0;31mModuleNotFoundError\u001b[0m                       Traceback (most recent call last)",
      "Cell \u001b[0;32mIn[24], line 1\u001b[0m\n\u001b[0;32m----> 1\u001b[0m \u001b[38;5;28;01mimport\u001b[39;00m\u001b[38;5;250m \u001b[39m\u001b[38;5;21;01mpytest\u001b[39;00m\n\u001b[1;32m      3\u001b[0m \u001b[38;5;28;01mdef\u001b[39;00m\u001b[38;5;250m \u001b[39m\u001b[38;5;21mtest_empty_list\u001b[39m(data):\n\u001b[1;32m      4\u001b[0m     analyzer \u001b[38;5;241m=\u001b[39m DataAnalyzer(data)\n",
      "\u001b[0;31mModuleNotFoundError\u001b[0m: No module named 'pytest'"
     ]
    }
   ],
   "source": [
    "import pytest\n",
    "\n",
    "def test_empty_list(data):\n",
    "    analyzer = DataAnalyzer(data)\n",
    "    with pytest.raises(statistics.StatisticsError):\n",
    "        analyzer.mean()\n"
   ]
  },
  {
   "cell_type": "code",
   "execution_count": null,
   "metadata": {},
   "outputs": [],
   "source": [
    "try: \n",
    "    test_empty_list([])\n",
    "    print(\"test passed\")\n",
    "except AssertionError:\n",
    "    print(\"test failed\")"
   ]
  },
  {
   "cell_type": "markdown",
   "metadata": {
    "id": "wboyIUd-2xpi"
   },
   "source": [
    "#### `test_non_numeric_data`\n",
    "- **Purpose**: Verifies that the `mean` method raises a `TypeError` when non-numeric data is provided.\n",
    "- **Key Points**:\n",
    "  - The `sum` function cannot handle non-numeric values.\n",
    "  - This test ensures invalid input is handled explicitly."
   ]
  },
  {
   "cell_type": "code",
   "execution_count": null,
   "metadata": {
    "id": "dV_fR92H2yb6"
   },
   "outputs": [
    {
     "ename": "NameError",
     "evalue": "name 'pytest' is not defined",
     "output_type": "error",
     "traceback": [
      "\u001b[0;31m---------------------------------------------------------------------------\u001b[0m",
      "\u001b[0;31mNameError\u001b[0m                                 Traceback (most recent call last)",
      "Cell \u001b[0;32mIn[23], line 7\u001b[0m\n\u001b[1;32m      4\u001b[0m         analyzer\u001b[38;5;241m.\u001b[39mmean()\n\u001b[1;32m      6\u001b[0m \u001b[38;5;28;01mtry\u001b[39;00m:\n\u001b[0;32m----> 7\u001b[0m     \u001b[43mtest_non_numeric\u001b[49m\u001b[43m(\u001b[49m\u001b[43m[\u001b[49m\u001b[38;5;124;43m\"\u001b[39;49m\u001b[38;5;124;43ma\u001b[39;49m\u001b[38;5;124;43m\"\u001b[39;49m\u001b[43m,\u001b[49m\u001b[43m \u001b[49m\u001b[38;5;124;43m\"\u001b[39;49m\u001b[38;5;124;43mb\u001b[39;49m\u001b[38;5;124;43m\"\u001b[39;49m\u001b[43m,\u001b[49m\u001b[43m \u001b[49m\u001b[38;5;124;43m\"\u001b[39;49m\u001b[38;5;124;43mc\u001b[39;49m\u001b[38;5;124;43m\"\u001b[39;49m\u001b[43m]\u001b[49m\u001b[43m)\u001b[49m\n\u001b[1;32m      8\u001b[0m     \u001b[38;5;28mprint\u001b[39m(\u001b[38;5;124m\"\u001b[39m\u001b[38;5;124mtest passed\u001b[39m\u001b[38;5;124m\"\u001b[39m)\n\u001b[1;32m      9\u001b[0m \u001b[38;5;28;01mexcept\u001b[39;00m \u001b[38;5;167;01mAssertionError\u001b[39;00m:\n",
      "Cell \u001b[0;32mIn[23], line 3\u001b[0m, in \u001b[0;36mtest_non_numeric\u001b[0;34m(data)\u001b[0m\n\u001b[1;32m      1\u001b[0m \u001b[38;5;28;01mdef\u001b[39;00m\u001b[38;5;250m \u001b[39m\u001b[38;5;21mtest_non_numeric\u001b[39m(data):\n\u001b[1;32m      2\u001b[0m     analyzer \u001b[38;5;241m=\u001b[39m DataAnalyzer(data)\n\u001b[0;32m----> 3\u001b[0m     \u001b[38;5;28;01mwith\u001b[39;00m \u001b[43mpytest\u001b[49m\u001b[38;5;241m.\u001b[39mraises(\u001b[38;5;167;01mTypeError\u001b[39;00m):\n\u001b[1;32m      4\u001b[0m         analyzer\u001b[38;5;241m.\u001b[39mmean()\n",
      "\u001b[0;31mNameError\u001b[0m: name 'pytest' is not defined"
     ]
    }
   ],
   "source": [
    "def test_non_numeric(data):\n",
    "    analyzer = DataAnalyzer(data)\n",
    "    with pytest.raises(TypeError):\n",
    "        analyzer.mean()\n",
    "\n",
    "try:\n",
    "    test_non_numeric([\"a\", \"b\", \"c\"])\n",
    "    print(\"test passed\")\n",
    "except AssertionError:\n",
    "    print(\"test failed\") "
   ]
  },
  {
   "cell_type": "markdown",
   "metadata": {
    "id": "5iB8Mz2i3Dp_"
   },
   "source": [
    "## Final Challenge Instructions: Rewriting the DataAnalyzer Class\n",
    "For the final challenge, you will modify the `DataAnalyzer` class to calculate the mean, median, and mode manually without using any functions from the statistics library.\n",
    "\n",
    "**Instructions**\n",
    "1. Re-Write the `mean` Method\n",
    "    * Manually calculate the mean using a `for loop` to sum the values in the list.\n",
    "    * Avoid using the `sum` function.\n",
    "    * Round to 1 decimal\n",
    "\n",
    "2. Re-Write the median Method\n",
    "    * Manually calculate the median by:\n",
    "        * Sorting the list.\n",
    "        * Finding the middle value if the list has an odd number of elements.\n",
    "        * Averaging the two middle values if the list has an even number of elements.\n",
    "\n",
    "3. Re-Write the mode Method\n",
    "    * Manually calculate the mode by:\n",
    "        * Counting the frequency of each number in the list using a dictionary.\n",
    "        * Identifying the number with the highest frequency.\n",
    "\n",
    "4. Test Your Implementation\n",
    "    * Use the provided test functions (test_mean, test_median, test_mode) to verify your manual implementations work correctly.\n",
    "    * Run your tests using pytest or manually in the notebook."
   ]
  },
  {
   "cell_type": "code",
   "execution_count": null,
   "metadata": {
    "id": "_J-NcaPpFsi5"
   },
   "outputs": [],
   "source": [
    "\n",
    "class DataAnalyzer:\n",
    "    def __init__(self, data):\n",
    "        \"\"\"\n",
    "        Initializes the DataAnalyzer with a list of numeric values.\n",
    "        \"\"\"\n",
    "        \n",
    "\n",
    "\n",
    "    def mean(self):\n",
    "        \"\"\"Manually calculates the mean of the numeric data.\"\"\"\n",
    "\n",
    "\n",
    "\n",
    "\n",
    "    def median(self):\n",
    "        \"\"\"Manually calculates the median of the numeric data.\"\"\"\n",
    "\n",
    "\n",
    "    def mode(self):\n",
    "        \"\"\"Manually calculates the mode of the numeric data.\"\"\"\n",
    "\n"
   ]
  },
  {
   "cell_type": "code",
   "execution_count": null,
   "metadata": {
    "id": "HCIZsAh532ls"
   },
   "outputs": [],
   "source": [
    "# First Test: test_mean\n",
    "def test_mean(data_list, mean_value):\n",
    "\n",
    "\n",
    "# Create test function for median\n",
    "def test_median(data_list, median_value):\n",
    "\n",
    "\n",
    "# Create test function for mode\n",
    "def test_mode(data_list, mode_value):\n",
    "\n",
    "\n",
    "# Run test functions\n"
   ]
  }
 ],
 "metadata": {
  "colab": {
   "authorship_tag": "ABX9TyP9mrVwgnTI6Z2Ly+Zxpb8z",
   "provenance": [
    {
     "file_id": "115ikyO48oYr6VRXJy1bnZdwa8gCyMTRI",
     "timestamp": 1737639966076
    },
    {
     "file_id": "1jlVNO_tvryAJvdmk_lwQHGFrV_xlz48y",
     "timestamp": 1737639663399
    }
   ]
  },
  "kernelspec": {
   "display_name": "Python 3",
   "name": "python3"
  },
  "language_info": {
   "codemirror_mode": {
    "name": "ipython",
    "version": 3
   },
   "file_extension": ".py",
   "mimetype": "text/x-python",
   "name": "python",
   "nbconvert_exporter": "python",
   "pygments_lexer": "ipython3",
   "version": "3.10.0"
  }
 },
 "nbformat": 4,
 "nbformat_minor": 0
}
