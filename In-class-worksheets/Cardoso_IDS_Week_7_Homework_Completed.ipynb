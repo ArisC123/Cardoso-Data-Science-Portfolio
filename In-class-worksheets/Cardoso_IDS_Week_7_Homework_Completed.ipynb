{
 "cells": [
  {
   "cell_type": "markdown",
   "metadata": {},
   "source": [
    "## Part 1: Data Loading and Exploration"
   ]
  },
  {
   "cell_type": "code",
   "execution_count": 2,
   "metadata": {},
   "outputs": [
    {
     "name": "stdout",
     "output_type": "stream",
     "text": [
      "   MedInc  HouseAge  AveRooms  AveBedrms  Population  AveOccup  Latitude  \\\n",
      "0  8.3252      41.0  6.984127   1.023810       322.0  2.555556     37.88   \n",
      "1  8.3014      21.0  6.238137   0.971880      2401.0  2.109842     37.86   \n",
      "2  7.2574      52.0  8.288136   1.073446       496.0  2.802260     37.85   \n",
      "3  5.6431      52.0  5.817352   1.073059       558.0  2.547945     37.85   \n",
      "4  3.8462      52.0  6.281853   1.081081       565.0  2.181467     37.85   \n",
      "\n",
      "   Longitude  \n",
      "0    -122.23  \n",
      "1    -122.22  \n",
      "2    -122.24  \n",
      "3    -122.25  \n",
      "4    -122.25  \n",
      "MedInc        0\n",
      "HouseAge      0\n",
      "AveRooms      0\n",
      "AveBedrms     0\n",
      "Population    0\n",
      "AveOccup      0\n",
      "Latitude      0\n",
      "Longitude     0\n",
      "dtype: int64\n",
      "             MedInc      HouseAge      AveRooms     AveBedrms    Population  \\\n",
      "count  20640.000000  20640.000000  20640.000000  20640.000000  20640.000000   \n",
      "mean       3.870671     28.639486      5.429000      1.096675   1425.476744   \n",
      "std        1.899822     12.585558      2.474173      0.473911   1132.462122   \n",
      "min        0.499900      1.000000      0.846154      0.333333      3.000000   \n",
      "25%        2.563400     18.000000      4.440716      1.006079    787.000000   \n",
      "50%        3.534800     29.000000      5.229129      1.048780   1166.000000   \n",
      "75%        4.743250     37.000000      6.052381      1.099526   1725.000000   \n",
      "max       15.000100     52.000000    141.909091     34.066667  35682.000000   \n",
      "\n",
      "           AveOccup      Latitude     Longitude  \n",
      "count  20640.000000  20640.000000  20640.000000  \n",
      "mean       3.070655     35.631861   -119.569704  \n",
      "std       10.386050      2.135952      2.003532  \n",
      "min        0.692308     32.540000   -124.350000  \n",
      "25%        2.429741     33.930000   -121.800000  \n",
      "50%        2.818116     34.260000   -118.490000  \n",
      "75%        3.282261     37.710000   -118.010000  \n",
      "max     1243.333333     41.950000   -114.310000  \n"
     ]
    }
   ],
   "source": [
    "import pandas as pd\n",
    "from sklearn.datasets import fetch_california_housing\n",
    "\n",
    "#Part 1: Data Loading and Exploration\n",
    "# Load the housing dataset\n",
    "housing = fetch_california_housing()\n",
    "\n",
    "\n",
    "X = pd.DataFrame(housing.data, columns=housing.feature_names) \n",
    "y = pd.Series(housing.target, name='med_house_value')\n",
    "\n",
    "# Display the first 5 rows of the dataset\n",
    "print(X.head(5))\n",
    "\n",
    "# Check for missing values\n",
    "print(X.isnull().sum())\n",
    "\n",
    "# Display Summary Statistics\n",
    "print(X.describe())\n",
    "\n"
   ]
  },
  {
   "cell_type": "markdown",
   "metadata": {},
   "source": [
    "## Part 2: Linear Regression on Unscaled Data"
   ]
  },
  {
   "cell_type": "code",
   "execution_count": 3,
   "metadata": {},
   "outputs": [
    {
     "data": {
      "text/plain": [
       "array([0.71912284, 1.76401657, 2.70965883, ..., 4.46877017, 1.18751119,\n",
       "       2.00940251])"
      ]
     },
     "execution_count": 3,
     "metadata": {},
     "output_type": "execute_result"
    }
   ],
   "source": [
    "\n",
    "from sklearn.linear_model import LinearRegression\n",
    "from sklearn.model_selection import train_test_split\n",
    "\n",
    "X_train,  X_test, y_train, y_test = train_test_split(X, y, test_size=0.2, random_state=42)\n",
    "\n",
    "lin_reg = LinearRegression()\n",
    "lin_reg.fit(X_train, y_train)\n",
    "\n",
    "y_pred = lin_reg.predict(X_test)\n",
    "y_pred\n",
    "\n"
   ]
  },
  {
   "cell_type": "code",
   "execution_count": 4,
   "metadata": {},
   "outputs": [
    {
     "name": "stdout",
     "output_type": "stream",
     "text": [
      "Data Model:\n",
      "Mean Squared Error: 0.56\n",
      "Root Squared Error: 0.75\n",
      "R² Score: 0.58\n",
      "Model Coefficients: \n",
      "MedInc        0.448675\n",
      "HouseAge      0.009724\n",
      "AveRooms     -0.123323\n",
      "AveBedrms     0.783145\n",
      "Population   -0.000002\n",
      "AveOccup     -0.003526\n",
      "Latitude     -0.419792\n",
      "Longitude    -0.433708\n",
      "dtype: float64\n"
     ]
    }
   ],
   "source": [
    "# Evaluate Model Performance\n",
    "from sklearn.metrics import mean_squared_error, root_mean_squared_error, r2_score\n",
    "\n",
    "mse_lin = mean_squared_error(y_test, y_pred)\n",
    "rmse = root_mean_squared_error(y_test, y_pred)\n",
    "r2_lin = r2_score(y_test, y_pred)\n",
    "\n",
    "print(\"Data Model:\")\n",
    "print(f\"Mean Squared Error: {mse_lin:.2f}\")\n",
    "print(f\"Root Squared Error: {rmse:.2f}\")\n",
    "print(f\"R² Score: {r2_lin:.2f}\")\n",
    "\n",
    "# View our model's coefficients\n",
    "coef_series = pd.Series(lin_reg.coef_, index=  X.columns)\n",
    "print(f'Model Coefficients: \\n{coef_series}')"
   ]
  },
  {
   "cell_type": "markdown",
   "metadata": {},
   "source": [
    "### Interpretation Questions\n",
    "- The R² score tells us that thee proportion of the regression model that can be explained by the predictor variables is 0.58 \n",
    "\n",
    "- The feature that seems to have the stronger impact on the prediction is the Average Bedrooms ('AveBedrms'). If you look at the coefficients, that is what each feautre, or X variable, will be multiplied by. So, whichever coefficient with the greatest magnitude will have the strongest impact\n",
    "\n",
    "- The predicted values on average deviated from the observed values by .75 . Since the range of the feature variables vary by each label, a RMSE of .75 is high for some of the labels while for others it represents a smaller error. "
   ]
  },
  {
   "cell_type": "markdown",
   "metadata": {},
   "source": [
    "## Part 4: Feature Selection and Simplified Model"
   ]
  },
  {
   "cell_type": "code",
   "execution_count": null,
   "metadata": {},
   "outputs": [
    {
     "name": "stdout",
     "output_type": "stream",
     "text": [
      "       MedInc  AveRooms  AveBedrms\n",
      "0      8.3252  6.984127   1.023810\n",
      "1      8.3014  6.238137   0.971880\n",
      "2      7.2574  8.288136   1.073446\n",
      "3      5.6431  5.817352   1.073059\n",
      "4      3.8462  6.281853   1.081081\n",
      "...       ...       ...        ...\n",
      "20635  1.5603  5.045455   1.133333\n",
      "20636  2.5568  6.114035   1.315789\n",
      "20637  1.7000  5.205543   1.120092\n",
      "20638  1.8672  5.329513   1.171920\n",
      "20639  2.3886  5.254717   1.162264\n",
      "\n",
      "[20640 rows x 3 columns]\n"
     ]
    },
    {
     "data": {
      "text/plain": [
       "array([1.09794478, 1.55080224, 2.31795302, ..., 4.35435412, 1.38076318,\n",
       "       2.17579031])"
      ]
     },
     "execution_count": 36,
     "metadata": {},
     "output_type": "execute_result"
    }
   ],
   "source": [
    "# This simplified model will only include MedInc, AveRooms, and AveBedrms\n",
    "# I believe these three features are very important aspects of information surrounding housing prices or just understanding the socio-economics of certain areas.\n",
    "simple_model = X.loc[:, ['MedInc', 'AveRooms', 'AveBedrms']]\n",
    "print(simple_model)\n",
    "\n",
    "X_simple = simple_model\n",
    "\n",
    "X_train_simple, X_test_simple, y_train_simple, y_test_simple = train_test_split(X_simple, y, test_size= 0.2, random_state=42)\n",
    "lin_reg_simple = LinearRegression()\n",
    "lin_reg_simple.fit(X_train_simple, y_train_simple)\n",
    "\n",
    "y_pred_simple = lin_reg_simple.predict(X_test_simple)\n",
    "y_pred_simple"
   ]
  },
  {
   "cell_type": "code",
   "execution_count": 49,
   "metadata": {},
   "outputs": [
    {
     "name": "stdout",
     "output_type": "stream",
     "text": [
      "Mean Squared Error: Simplified Model:0.68 \n",
      "Full Model:0.56 \n",
      "\n",
      "Root Squared Error: Simplified Model:0.82 \n",
      "Full Model:0.75 \n",
      "\n",
      "R² Score: Simplified Model:0.48 \n",
      "Full Model:0.58 \n"
     ]
    }
   ],
   "source": [
    "# Evaluate Model Performance\n",
    "from sklearn.metrics import mean_squared_error, root_mean_squared_error, r2_score\n",
    "\n",
    "mse_lin_s = mean_squared_error(y_test_simple, y_pred_simple)\n",
    "rmse_s = root_mean_squared_error(y_test_simple, y_pred_simple)\n",
    "r2_lin_s = r2_score(y_test_simple, y_pred_simple)\n",
    "\n",
    "\n",
    "print(f\"Mean Squared Error: Simplified Model:{mse_lin_s:.2f} \\nFull Model:{mse_lin:.2f} \")\n",
    "print(f\"\\nRoot Squared Error: Simplified Model:{rmse_s:.2f} \\nFull Model:{rmse:.2f} \")\n",
    "print(f\"\\nR² Score: Simplified Model:{r2_lin_s:.2f} \\nFull Model:{r2_lin:.2f} \")\n",
    "\n"
   ]
  },
  {
   "cell_type": "markdown",
   "metadata": {},
   "source": [
    "### Comparison Between Simplified and Full Model\n",
    "### How does the simplified model compare to the full model\n",
    "- The full model seems to have smaller errors between the predictions and actual y values\n",
    "- The full model seems to have a higher porportion of the regression model be explained by the predictor variables\n",
    "### Would you use this simplified model in practice\n",
    "-  I would use the simplified model in practice because it can be used to understand datasets that may be very complex and to find what exact features contribute to the accuracy of the model"
   ]
  },
  {
   "cell_type": "markdown",
   "metadata": {},
   "source": [
    "## Part 3: Scaled Data"
   ]
  },
  {
   "cell_type": "code",
   "execution_count": 14,
   "metadata": {},
   "outputs": [
    {
     "name": "stdout",
     "output_type": "stream",
     "text": [
      "Scaled Data Model:\n",
      "Mean Squared Error: 0.56\n",
      "Root Squared Error: 0.75\n",
      "R² Score: 0.58\n",
      "Model Coefficients: \n",
      "MedInc        0.852382\n",
      "HouseAge      0.122382\n",
      "AveRooms     -0.305116\n",
      "AveBedrms     0.371132\n",
      "Population   -0.002298\n",
      "AveOccup     -0.036624\n",
      "Latitude     -0.896635\n",
      "Longitude    -0.868927\n",
      "dtype: float64\n"
     ]
    }
   ],
   "source": [
    "from sklearn.preprocessing import StandardScaler\n",
    "\n",
    "# Intialize the scaler and apply it to the features\n",
    "scaler = StandardScaler()\n",
    "X_scaled = scaler.fit_transform(X)\n",
    "X_scaled = pd.DataFrame(X_scaled, columns = X.columns)\n",
    "\n",
    "#Split scaled data\n",
    "X_train_scaled, X_test_scaled, y_train_scaled, y_test_scaled = train_test_split(X_scaled, y, test_size = 0.2, random_state = 42)\n",
    "\n",
    "#Fit the scaled data\n",
    "lin_reg_scaled = LinearRegression()\n",
    "lin_reg_scaled.fit(X_train_scaled, y_train_scaled)\n",
    "\n",
    "#Make predictions \n",
    "y_pred_scaled = lin_reg_scaled.predict(X_test_scaled)\n",
    "y_pred_scaled\n",
    "\n",
    "# Evaluate Model Performance\n",
    "from sklearn.metrics import mean_squared_error, root_mean_squared_error, r2_score\n",
    "mse_lin_s = mean_squared_error(y_test_scaled, y_pred_scaled)\n",
    "rmse_s = root_mean_squared_error(y_test_scaled, y_pred_scaled)\n",
    "r2_lin_s = r2_score(y_test_scaled, y_pred_scaled)\n",
    "\n",
    "print(\"Scaled Data Model:\")\n",
    "print(f\"Mean Squared Error: {mse_lin_s:.2f}\")\n",
    "print(f\"Root Squared Error: {rmse_s:.2f}\")\n",
    "print(f\"R² Score: {r2_lin_s:.2f}\")\n",
    "\n",
    "coef_series = pd.Series(lin_reg_scaled.coef_, index=  X.columns)\n",
    "print(f'Model Coefficients: \\n{coef_series}')"
   ]
  }
 ],
 "metadata": {
  "kernelspec": {
   "display_name": "base",
   "language": "python",
   "name": "python3"
  },
  "language_info": {
   "codemirror_mode": {
    "name": "ipython",
    "version": 3
   },
   "file_extension": ".py",
   "mimetype": "text/x-python",
   "name": "python",
   "nbconvert_exporter": "python",
   "pygments_lexer": "ipython3",
   "version": "3.12.7"
  }
 },
 "nbformat": 4,
 "nbformat_minor": 2
}
