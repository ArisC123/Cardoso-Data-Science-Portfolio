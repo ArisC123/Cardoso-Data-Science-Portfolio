{
 "cells": [
  {
   "cell_type": "markdown",
   "metadata": {
    "id": "XjFgWw51HwDo"
   },
   "source": [
    "## Section 1: Combining Data"
   ]
  },
  {
   "cell_type": "markdown",
   "metadata": {
    "id": "eBs1hZnTM6zy"
   },
   "source": [
    "Additional examples of [data wrangling in Pandas](https://pandas.pydata.org/Pandas_Cheat_Sheet.pdf)"
   ]
  },
  {
   "cell_type": "markdown",
   "metadata": {
    "id": "s3-QBbg8H2Al"
   },
   "source": [
    "### `pd.concat()`\n",
    "- **Purpose**: Combines multiple DataFrames into one.\n",
    "\n",
    "- **Key Parameter**:\n",
    "    - `ignore_index`: When set to `True` resets the index so that the resulting DataFrame has a new continuous index."
   ]
  },
  {
   "cell_type": "code",
   "execution_count": 14,
   "metadata": {
    "id": "Es0TZvqtEXVO"
   },
   "outputs": [
    {
     "name": "stdout",
     "output_type": "stream",
     "text": [
      "   EmployeeID     Name Department  Salary\n",
      "0         101    Alice      Sales   60000\n",
      "1         102      Bob      Sales   62000\n",
      "2         103  Michael      Sales   61000\n"
     ]
    }
   ],
   "source": [
    "import pandas as pd\n",
    "\n",
    "# Department 1 data\n",
    "df_dept1 = pd.DataFrame({\n",
    "    'EmployeeID': [101, 102, 103],\n",
    "    'Name': ['Alice', 'Bob', 'Michael'],\n",
    "    'Department': ['Sales', 'Sales', 'Sales'],\n",
    "    'Salary': [60000, 62000, 61000]\n",
    "})\n",
    "\n",
    "# Department 2 data\n",
    "df_dept2 = pd.DataFrame({\n",
    "    'EmployeeID': [104, 105],\n",
    "    'Name': ['David', 'Henry'],\n",
    "    'Department': ['Marketing', 'Marketing'],\n",
    "    'Salary': [65000, 67000]\n",
    "})\n",
    "\n",
    "print(df_dept1)\n",
    "df_dept2\n",
    "\n",
    "df_employees = pd.concat([df_dept1, df_dept2],ignore_index = True)"
   ]
  },
  {
   "cell_type": "markdown",
   "metadata": {
    "id": "6_45vWI-IHpa"
   },
   "source": [
    "### `rename()`\n",
    "- **Purpose**: Changes column names to more meaningful or standardized labels.\n",
    "- **Key Parameter**:\n",
    "    - `columns`: A dictionary mapping old column names to new names."
   ]
  },
  {
   "cell_type": "code",
   "execution_count": 21,
   "metadata": {
    "id": "fd063VWFEerp"
   },
   "outputs": [
    {
     "data": {
      "text/html": [
       "<div>\n",
       "<style scoped>\n",
       "    .dataframe tbody tr th:only-of-type {\n",
       "        vertical-align: middle;\n",
       "    }\n",
       "\n",
       "    .dataframe tbody tr th {\n",
       "        vertical-align: top;\n",
       "    }\n",
       "\n",
       "    .dataframe thead th {\n",
       "        text-align: right;\n",
       "    }\n",
       "</style>\n",
       "<table border=\"1\" class=\"dataframe\">\n",
       "  <thead>\n",
       "    <tr style=\"text-align: right;\">\n",
       "      <th></th>\n",
       "      <th>Emp_ID</th>\n",
       "      <th>Emp_Name</th>\n",
       "      <th>Dept</th>\n",
       "      <th>Annual_Salary</th>\n",
       "    </tr>\n",
       "  </thead>\n",
       "  <tbody>\n",
       "    <tr>\n",
       "      <th>0</th>\n",
       "      <td>101</td>\n",
       "      <td>Alice</td>\n",
       "      <td>Sales</td>\n",
       "      <td>60000</td>\n",
       "    </tr>\n",
       "    <tr>\n",
       "      <th>1</th>\n",
       "      <td>102</td>\n",
       "      <td>Bob</td>\n",
       "      <td>Sales</td>\n",
       "      <td>62000</td>\n",
       "    </tr>\n",
       "    <tr>\n",
       "      <th>2</th>\n",
       "      <td>103</td>\n",
       "      <td>Michael</td>\n",
       "      <td>Sales</td>\n",
       "      <td>61000</td>\n",
       "    </tr>\n",
       "    <tr>\n",
       "      <th>3</th>\n",
       "      <td>104</td>\n",
       "      <td>David</td>\n",
       "      <td>Marketing</td>\n",
       "      <td>65000</td>\n",
       "    </tr>\n",
       "    <tr>\n",
       "      <th>4</th>\n",
       "      <td>105</td>\n",
       "      <td>Henry</td>\n",
       "      <td>Marketing</td>\n",
       "      <td>67000</td>\n",
       "    </tr>\n",
       "  </tbody>\n",
       "</table>\n",
       "</div>"
      ],
      "text/plain": [
       "   Emp_ID Emp_Name       Dept  Annual_Salary\n",
       "0     101    Alice      Sales          60000\n",
       "1     102      Bob      Sales          62000\n",
       "2     103  Michael      Sales          61000\n",
       "3     104    David  Marketing          65000\n",
       "4     105    Henry  Marketing          67000"
      ]
     },
     "execution_count": 21,
     "metadata": {},
     "output_type": "execute_result"
    }
   ],
   "source": [
    "# Rename columns to more descriptive names\n",
    "df_employees_renamed = df_employees.rename(columns = {'EmployeeID': 'Emp_ID', \n",
    "                               'Name': 'Emp_Name',\n",
    "                               'Department': 'Dept',\n",
    "                               'Salary': 'Annual_Salary'})\n",
    "df_employees_renamed\n"
   ]
  },
  {
   "cell_type": "markdown",
   "metadata": {
    "id": "vHt823y8IUBw"
   },
   "source": [
    "### `sort_values()`\n",
    "- **Purpose**: Sorts the DataFrame by a specific column.\n",
    "- **Key Parameter**:\n",
    "    - `by`: Specifies the column(s) to sort by.\n",
    "    - `ascending`: When set to `False` sorts the data in descending order."
   ]
  },
  {
   "cell_type": "code",
   "execution_count": 22,
   "metadata": {
    "id": "MED8LAAeEg-G"
   },
   "outputs": [
    {
     "data": {
      "text/html": [
       "<div>\n",
       "<style scoped>\n",
       "    .dataframe tbody tr th:only-of-type {\n",
       "        vertical-align: middle;\n",
       "    }\n",
       "\n",
       "    .dataframe tbody tr th {\n",
       "        vertical-align: top;\n",
       "    }\n",
       "\n",
       "    .dataframe thead th {\n",
       "        text-align: right;\n",
       "    }\n",
       "</style>\n",
       "<table border=\"1\" class=\"dataframe\">\n",
       "  <thead>\n",
       "    <tr style=\"text-align: right;\">\n",
       "      <th></th>\n",
       "      <th>Emp_ID</th>\n",
       "      <th>Emp_Name</th>\n",
       "      <th>Dept</th>\n",
       "      <th>Annual_Salary</th>\n",
       "    </tr>\n",
       "  </thead>\n",
       "  <tbody>\n",
       "    <tr>\n",
       "      <th>4</th>\n",
       "      <td>105</td>\n",
       "      <td>Henry</td>\n",
       "      <td>Marketing</td>\n",
       "      <td>67000</td>\n",
       "    </tr>\n",
       "    <tr>\n",
       "      <th>3</th>\n",
       "      <td>104</td>\n",
       "      <td>David</td>\n",
       "      <td>Marketing</td>\n",
       "      <td>65000</td>\n",
       "    </tr>\n",
       "    <tr>\n",
       "      <th>1</th>\n",
       "      <td>102</td>\n",
       "      <td>Bob</td>\n",
       "      <td>Sales</td>\n",
       "      <td>62000</td>\n",
       "    </tr>\n",
       "    <tr>\n",
       "      <th>2</th>\n",
       "      <td>103</td>\n",
       "      <td>Michael</td>\n",
       "      <td>Sales</td>\n",
       "      <td>61000</td>\n",
       "    </tr>\n",
       "    <tr>\n",
       "      <th>0</th>\n",
       "      <td>101</td>\n",
       "      <td>Alice</td>\n",
       "      <td>Sales</td>\n",
       "      <td>60000</td>\n",
       "    </tr>\n",
       "  </tbody>\n",
       "</table>\n",
       "</div>"
      ],
      "text/plain": [
       "   Emp_ID Emp_Name       Dept  Annual_Salary\n",
       "4     105    Henry  Marketing          67000\n",
       "3     104    David  Marketing          65000\n",
       "1     102      Bob      Sales          62000\n",
       "2     103  Michael      Sales          61000\n",
       "0     101    Alice      Sales          60000"
      ]
     },
     "execution_count": 22,
     "metadata": {},
     "output_type": "execute_result"
    }
   ],
   "source": [
    "# Sort by Annual_Salary in descending order\n",
    "df_employees_renamed.sort_values(by = 'Annual_Salary', ascending = False)"
   ]
  },
  {
   "cell_type": "markdown",
   "metadata": {
    "id": "8ZntpkBqIjrz"
   },
   "source": [
    "## Section 2: Method Chaining"
   ]
  },
  {
   "cell_type": "markdown",
   "metadata": {
    "id": "BF4iWf3OIlWD"
   },
   "source": [
    "### **Concept**: Combining several DataFrame operations into one continuous expression.\n",
    "\n",
    "### **Advantages**:\n",
    "- Improves readability and conciseness.\n",
    "- Reduces the need for intermediate variables.\n",
    "\n",
    "### Steps in this chain:\n",
    "- **Concatenation**: Merges the two department DataFrames.\n",
    "- **Renaming**: Standardizes column names.\n",
    "- **Sorting**: Orders the DataFrame by annual salary in descending order."
   ]
  },
  {
   "cell_type": "code",
   "execution_count": 24,
   "metadata": {
    "id": "Vomj3s-3EyBM"
   },
   "outputs": [
    {
     "data": {
      "text/html": [
       "<div>\n",
       "<style scoped>\n",
       "    .dataframe tbody tr th:only-of-type {\n",
       "        vertical-align: middle;\n",
       "    }\n",
       "\n",
       "    .dataframe tbody tr th {\n",
       "        vertical-align: top;\n",
       "    }\n",
       "\n",
       "    .dataframe thead th {\n",
       "        text-align: right;\n",
       "    }\n",
       "</style>\n",
       "<table border=\"1\" class=\"dataframe\">\n",
       "  <thead>\n",
       "    <tr style=\"text-align: right;\">\n",
       "      <th></th>\n",
       "      <th>Emp_ID</th>\n",
       "      <th>Emp_Name</th>\n",
       "      <th>Dept</th>\n",
       "      <th>Annual_Salary</th>\n",
       "    </tr>\n",
       "  </thead>\n",
       "  <tbody>\n",
       "    <tr>\n",
       "      <th>4</th>\n",
       "      <td>105</td>\n",
       "      <td>Henry</td>\n",
       "      <td>Marketing</td>\n",
       "      <td>67000</td>\n",
       "    </tr>\n",
       "    <tr>\n",
       "      <th>3</th>\n",
       "      <td>104</td>\n",
       "      <td>David</td>\n",
       "      <td>Marketing</td>\n",
       "      <td>65000</td>\n",
       "    </tr>\n",
       "    <tr>\n",
       "      <th>1</th>\n",
       "      <td>102</td>\n",
       "      <td>Bob</td>\n",
       "      <td>Sales</td>\n",
       "      <td>62000</td>\n",
       "    </tr>\n",
       "    <tr>\n",
       "      <th>2</th>\n",
       "      <td>103</td>\n",
       "      <td>Michael</td>\n",
       "      <td>Sales</td>\n",
       "      <td>61000</td>\n",
       "    </tr>\n",
       "    <tr>\n",
       "      <th>0</th>\n",
       "      <td>101</td>\n",
       "      <td>Alice</td>\n",
       "      <td>Sales</td>\n",
       "      <td>60000</td>\n",
       "    </tr>\n",
       "  </tbody>\n",
       "</table>\n",
       "</div>"
      ],
      "text/plain": [
       "   Emp_ID Emp_Name       Dept  Annual_Salary\n",
       "4     105    Henry  Marketing          67000\n",
       "3     104    David  Marketing          65000\n",
       "1     102      Bob      Sales          62000\n",
       "2     103  Michael      Sales          61000\n",
       "0     101    Alice      Sales          60000"
      ]
     },
     "execution_count": 24,
     "metadata": {},
     "output_type": "execute_result"
    }
   ],
   "source": [
    "import pandas as pd\n",
    "\n",
    "# Department 1 data\n",
    "df_dept1 = pd.DataFrame({\n",
    "    'EmployeeID': [101, 102, 103],\n",
    "    'Name': ['Alice', 'Bob', 'Michael'],\n",
    "    'Department': ['Sales', 'Sales', 'Sales'],\n",
    "    'Salary': [60000, 62000, 61000]\n",
    "})\n",
    "\n",
    "# Department 2 data\n",
    "df_dept2 = pd.DataFrame({\n",
    "    'EmployeeID': [104, 105],\n",
    "    'Name': ['David', 'Henry'],\n",
    "    'Department': ['Marketing', 'Marketing'],\n",
    "    'Salary': [65000, 67000]\n",
    "})\n",
    "\n",
    "# Method chaining: Combine, rename, and sort in descending order of salary.\n",
    "\n",
    "df_employees1 =(pd.concat([df_dept1, df_dept2], ignore_index=True).rename(columns = {'EmployeeID': 'Emp_ID', \n",
    "                               'Name': 'Emp_Name',\n",
    "                               'Department': 'Dept',\n",
    "                               'Salary': 'Annual_Salary'}).sort_values(by = 'Annual_Salary', ascending = False))\n",
    "df_employees1"
   ]
  },
  {
   "cell_type": "markdown",
   "metadata": {
    "id": "bv35Qs3iI6_j"
   },
   "source": [
    "## Group Activity: Cleaning an Untidy Sales Dataset Using Method Chaining"
   ]
  },
  {
   "cell_type": "markdown",
   "metadata": {
    "id": "E4t67jTUJDKq"
   },
   "source": [
    "### Method Chaining Instructions:\n",
    "- Remove duplicates.\n",
    "- Fill missing values with 0.\n",
    "- Reshape the DataFrame from wide to long format.\n",
    "- Sort the final DataFrame."
   ]
  },
  {
   "cell_type": "code",
   "execution_count": 26,
   "metadata": {
    "id": "6ajePSEdE0qa"
   },
   "outputs": [
    {
     "name": "stdout",
     "output_type": "stream",
     "text": [
      "Expanded df_sales DataFrame:\n",
      "     Product   Region  Sales_Q1  Sales_Q2  Sales_Q3  Sales_Q4\n",
      "0   Widget A    North     100.0     110.0     105.0     115.0\n",
      "1   Widget B    South     200.0       NaN     205.0     215.0\n",
      "2   Widget A    North     100.0     110.0     105.0     115.0\n",
      "3   Widget C     East     150.0     160.0       NaN     165.0\n",
      "4   Widget B    South       NaN     210.0     215.0     225.0\n",
      "5   Widget A    North     100.0     110.0     105.0       NaN\n",
      "6   Widget D     West     180.0     185.0     175.0     190.0\n",
      "7   Widget E     East     210.0     220.0     205.0     215.0\n",
      "8   Widget C  Central     140.0     150.0     145.0     155.0\n",
      "9   Widget D    North     190.0     200.0     195.0     205.0\n",
      "10  Widget B     West     205.0     215.0     210.0     220.0\n",
      "11  Widget E    South     220.0     230.0     225.0     235.0\n"
     ]
    },
    {
     "ename": "KeyError",
     "evalue": "'variable'",
     "output_type": "error",
     "traceback": [
      "\u001b[0;31m---------------------------------------------------------------------------\u001b[0m",
      "\u001b[0;31mKeyError\u001b[0m                                  Traceback (most recent call last)",
      "\u001b[0;32m/var/folders/hj/bn4p_chx1cz4v1jhj50z3lf40000gr/T/ipykernel_1942/597430258.py\u001b[0m in \u001b[0;36m?\u001b[0;34m()\u001b[0m\n\u001b[1;32m     22\u001b[0m \u001b[0;34m\u001b[0m\u001b[0m\n\u001b[1;32m     23\u001b[0m \u001b[0;34m\u001b[0m\u001b[0m\n\u001b[1;32m     24\u001b[0m \u001b[0;31m# Method chaining: Clean the dataset in one pipeline.\u001b[0m\u001b[0;34m\u001b[0m\u001b[0;34m\u001b[0m\u001b[0m\n\u001b[1;32m     25\u001b[0m (df_sales.drop_duplicates().fillna(0).melt(id_vars = ['Product', 'Region'], value_vars = df_sales.columns[2:], \n\u001b[0;32m---> 26\u001b[0;31m                                                 var_name = 'SalesQ', value_name = '')).sort_values(by =\n\u001b[0m\u001b[1;32m     27\u001b[0m                                                             \u001b[0;34m[\u001b[0m\u001b[0;34m'Product'\u001b[0m\u001b[0;34m,\u001b[0m \u001b[0;34m'Region'\u001b[0m\u001b[0;34m,\u001b[0m \u001b[0;34m'variable'\u001b[0m\u001b[0;34m]\u001b[0m\u001b[0;34m)\u001b[0m\u001b[0;34m\u001b[0m\u001b[0;34m\u001b[0m\u001b[0m\n",
      "\u001b[0;32m/opt/anaconda3/lib/python3.12/site-packages/pandas/core/frame.py\u001b[0m in \u001b[0;36m?\u001b[0;34m(self, by, axis, ascending, inplace, kind, na_position, ignore_index, key)\u001b[0m\n\u001b[1;32m   7168\u001b[0m                 \u001b[0;34mf\"\u001b[0m\u001b[0;34mLength of ascending (\u001b[0m\u001b[0;34m{\u001b[0m\u001b[0mlen\u001b[0m\u001b[0;34m(\u001b[0m\u001b[0mascending\u001b[0m\u001b[0;34m)\u001b[0m\u001b[0;34m}\u001b[0m\u001b[0;34m)\u001b[0m\u001b[0;34m\"\u001b[0m  \u001b[0;31m# type: ignore[arg-type]\u001b[0m\u001b[0;34m\u001b[0m\u001b[0;34m\u001b[0m\u001b[0m\n\u001b[1;32m   7169\u001b[0m                 \u001b[0;34mf\"\u001b[0m\u001b[0;34m != length of by (\u001b[0m\u001b[0;34m{\u001b[0m\u001b[0mlen\u001b[0m\u001b[0;34m(\u001b[0m\u001b[0mby\u001b[0m\u001b[0;34m)\u001b[0m\u001b[0;34m}\u001b[0m\u001b[0;34m)\u001b[0m\u001b[0;34m\"\u001b[0m\u001b[0;34m\u001b[0m\u001b[0;34m\u001b[0m\u001b[0m\n\u001b[1;32m   7170\u001b[0m             \u001b[0;34m)\u001b[0m\u001b[0;34m\u001b[0m\u001b[0;34m\u001b[0m\u001b[0m\n\u001b[1;32m   7171\u001b[0m         \u001b[0;32mif\u001b[0m \u001b[0mlen\u001b[0m\u001b[0;34m(\u001b[0m\u001b[0mby\u001b[0m\u001b[0;34m)\u001b[0m \u001b[0;34m>\u001b[0m \u001b[0;36m1\u001b[0m\u001b[0;34m:\u001b[0m\u001b[0;34m\u001b[0m\u001b[0;34m\u001b[0m\u001b[0m\n\u001b[0;32m-> 7172\u001b[0;31m             \u001b[0mkeys\u001b[0m \u001b[0;34m=\u001b[0m \u001b[0;34m[\u001b[0m\u001b[0mself\u001b[0m\u001b[0;34m.\u001b[0m\u001b[0m_get_label_or_level_values\u001b[0m\u001b[0;34m(\u001b[0m\u001b[0mx\u001b[0m\u001b[0;34m,\u001b[0m \u001b[0maxis\u001b[0m\u001b[0;34m=\u001b[0m\u001b[0maxis\u001b[0m\u001b[0;34m)\u001b[0m \u001b[0;32mfor\u001b[0m \u001b[0mx\u001b[0m \u001b[0;32min\u001b[0m \u001b[0mby\u001b[0m\u001b[0;34m]\u001b[0m\u001b[0;34m\u001b[0m\u001b[0;34m\u001b[0m\u001b[0m\n\u001b[0m\u001b[1;32m   7173\u001b[0m \u001b[0;34m\u001b[0m\u001b[0m\n\u001b[1;32m   7174\u001b[0m             \u001b[0;31m# need to rewrap columns in Series to apply key function\u001b[0m\u001b[0;34m\u001b[0m\u001b[0;34m\u001b[0m\u001b[0m\n\u001b[1;32m   7175\u001b[0m             \u001b[0;32mif\u001b[0m \u001b[0mkey\u001b[0m \u001b[0;32mis\u001b[0m \u001b[0;32mnot\u001b[0m \u001b[0;32mNone\u001b[0m\u001b[0;34m:\u001b[0m\u001b[0;34m\u001b[0m\u001b[0;34m\u001b[0m\u001b[0m\n",
      "\u001b[0;32m/opt/anaconda3/lib/python3.12/site-packages/pandas/core/generic.py\u001b[0m in \u001b[0;36m?\u001b[0;34m(self, key, axis)\u001b[0m\n\u001b[1;32m   1907\u001b[0m             \u001b[0mvalues\u001b[0m \u001b[0;34m=\u001b[0m \u001b[0mself\u001b[0m\u001b[0;34m.\u001b[0m\u001b[0mxs\u001b[0m\u001b[0;34m(\u001b[0m\u001b[0mkey\u001b[0m\u001b[0;34m,\u001b[0m \u001b[0maxis\u001b[0m\u001b[0;34m=\u001b[0m\u001b[0mother_axes\u001b[0m\u001b[0;34m[\u001b[0m\u001b[0;36m0\u001b[0m\u001b[0;34m]\u001b[0m\u001b[0;34m)\u001b[0m\u001b[0;34m.\u001b[0m\u001b[0m_values\u001b[0m\u001b[0;34m\u001b[0m\u001b[0;34m\u001b[0m\u001b[0m\n\u001b[1;32m   1908\u001b[0m         \u001b[0;32melif\u001b[0m \u001b[0mself\u001b[0m\u001b[0;34m.\u001b[0m\u001b[0m_is_level_reference\u001b[0m\u001b[0;34m(\u001b[0m\u001b[0mkey\u001b[0m\u001b[0;34m,\u001b[0m \u001b[0maxis\u001b[0m\u001b[0;34m=\u001b[0m\u001b[0maxis\u001b[0m\u001b[0;34m)\u001b[0m\u001b[0;34m:\u001b[0m\u001b[0;34m\u001b[0m\u001b[0;34m\u001b[0m\u001b[0m\n\u001b[1;32m   1909\u001b[0m             \u001b[0mvalues\u001b[0m \u001b[0;34m=\u001b[0m \u001b[0mself\u001b[0m\u001b[0;34m.\u001b[0m\u001b[0maxes\u001b[0m\u001b[0;34m[\u001b[0m\u001b[0maxis\u001b[0m\u001b[0;34m]\u001b[0m\u001b[0;34m.\u001b[0m\u001b[0mget_level_values\u001b[0m\u001b[0;34m(\u001b[0m\u001b[0mkey\u001b[0m\u001b[0;34m)\u001b[0m\u001b[0;34m.\u001b[0m\u001b[0m_values\u001b[0m\u001b[0;34m\u001b[0m\u001b[0;34m\u001b[0m\u001b[0m\n\u001b[1;32m   1910\u001b[0m         \u001b[0;32melse\u001b[0m\u001b[0;34m:\u001b[0m\u001b[0;34m\u001b[0m\u001b[0;34m\u001b[0m\u001b[0m\n\u001b[0;32m-> 1911\u001b[0;31m             \u001b[0;32mraise\u001b[0m \u001b[0mKeyError\u001b[0m\u001b[0;34m(\u001b[0m\u001b[0mkey\u001b[0m\u001b[0;34m)\u001b[0m\u001b[0;34m\u001b[0m\u001b[0;34m\u001b[0m\u001b[0m\n\u001b[0m\u001b[1;32m   1912\u001b[0m \u001b[0;34m\u001b[0m\u001b[0m\n\u001b[1;32m   1913\u001b[0m         \u001b[0;31m# Check for duplicates\u001b[0m\u001b[0;34m\u001b[0m\u001b[0;34m\u001b[0m\u001b[0m\n\u001b[1;32m   1914\u001b[0m         \u001b[0;32mif\u001b[0m \u001b[0mvalues\u001b[0m\u001b[0;34m.\u001b[0m\u001b[0mndim\u001b[0m \u001b[0;34m>\u001b[0m \u001b[0;36m1\u001b[0m\u001b[0;34m:\u001b[0m\u001b[0;34m\u001b[0m\u001b[0;34m\u001b[0m\u001b[0m\n",
      "\u001b[0;31mKeyError\u001b[0m: 'variable'"
     ]
    }
   ],
   "source": [
    "import pandas as pd\n",
    "\n",
    "df_sales = pd.DataFrame({\n",
    "    'Product': [\n",
    "        'Widget A', 'Widget B', 'Widget A', 'Widget C',\n",
    "        'Widget B', 'Widget A', 'Widget D', 'Widget E',\n",
    "        'Widget C', 'Widget D', 'Widget B', 'Widget E'\n",
    "    ],\n",
    "    'Region': [\n",
    "        'North', 'South', 'North', 'East',\n",
    "        'South', 'North', 'West', 'East',\n",
    "        'Central', 'North', 'West', 'South'\n",
    "    ],\n",
    "    'Sales_Q1': [100, 200, 100, 150, None, 100, 180, 210, 140, 190, 205, 220],\n",
    "    'Sales_Q2': [110, None, 110, 160, 210, 110, 185, 220, 150, 200, 215, 230],\n",
    "    'Sales_Q3': [105, 205, 105, None, 215, 105, 175, 205, 145, 195, 210, 225],\n",
    "    'Sales_Q4': [115, 215, 115, 165, 225, None, 190, 215, 155, 205, 220, 235]\n",
    "})\n",
    "\n",
    "print(\"Expanded df_sales DataFrame:\")\n",
    "print(df_sales)\n",
    "\n",
    "\n",
    "# Method chaining: Clean the dataset in one pipeline.\n",
    "(df_sales.drop_duplicates().fillna(0).melt(id_vars = ['Product', 'Region'], value_vars = df_sales.columns[2:], \n",
    "                                                var_name = 'SalesQ', value_name = '')).sort_values(by =\n",
    "                                                            ['Product', 'Region', 'variable'])"
   ]
  },
  {
   "cell_type": "code",
   "execution_count": null,
   "metadata": {
    "id": "86hM-4tPKkZA"
   },
   "outputs": [],
   "source": [
    "# Create a pivot table that calculates the sum of sales per Product per Region\n"
   ]
  },
  {
   "cell_type": "markdown",
   "metadata": {
    "id": "7FhmsWn4KWmg"
   },
   "source": []
  }
 ],
 "metadata": {
  "colab": {
   "authorship_tag": "ABX9TyPxt7Ld7kBXfU0dOgI5OtUb",
   "provenance": [],
   "toc_visible": true
  },
  "kernelspec": {
   "display_name": "base",
   "language": "python",
   "name": "python3"
  },
  "language_info": {
   "codemirror_mode": {
    "name": "ipython",
    "version": 3
   },
   "file_extension": ".py",
   "mimetype": "text/x-python",
   "name": "python",
   "nbconvert_exporter": "python",
   "pygments_lexer": "ipython3",
   "version": "3.12.7"
  }
 },
 "nbformat": 4,
 "nbformat_minor": 0
}
