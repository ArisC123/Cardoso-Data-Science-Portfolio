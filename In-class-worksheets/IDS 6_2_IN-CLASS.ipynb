{
 "cells": [
  {
   "cell_type": "markdown",
   "metadata": {
    "id": "XjFgWw51HwDo"
   },
   "source": [
    "## Section 1: Combining Data"
   ]
  },
  {
   "cell_type": "markdown",
   "metadata": {
    "id": "eBs1hZnTM6zy"
   },
   "source": [
    "Additional examples of [data wrangling in Pandas](https://pandas.pydata.org/Pandas_Cheat_Sheet.pdf)"
   ]
  },
  {
   "cell_type": "markdown",
   "metadata": {
    "id": "s3-QBbg8H2Al"
   },
   "source": [
    "### `pd.concat()`\n",
    "- **Purpose**: Combines multiple DataFrames into one.\n",
    "\n",
    "- **Key Parameter**:\n",
    "    - `ignore_index`: When set to `True` resets the index so that the resulting DataFrame has a new continuous index."
   ]
  },
  {
   "cell_type": "code",
   "execution_count": 1,
   "metadata": {
    "id": "Es0TZvqtEXVO"
   },
   "outputs": [
    {
     "name": "stdout",
     "output_type": "stream",
     "text": [
      "   EmployeeID     Name Department  Salary\n",
      "0         101    Alice      Sales   60000\n",
      "1         102      Bob      Sales   62000\n",
      "2         103  Michael      Sales   61000\n"
     ]
    }
   ],
   "source": [
    "import pandas as pd\n",
    "\n",
    "# Department 1 data\n",
    "df_dept1 = pd.DataFrame({\n",
    "    'EmployeeID': [101, 102, 103],\n",
    "    'Name': ['Alice', 'Bob', 'Michael'],\n",
    "    'Department': ['Sales', 'Sales', 'Sales'],\n",
    "    'Salary': [60000, 62000, 61000]\n",
    "})\n",
    "\n",
    "# Department 2 data\n",
    "df_dept2 = pd.DataFrame({\n",
    "    'EmployeeID': [104, 105],\n",
    "    'Name': ['David', 'Henry'],\n",
    "    'Department': ['Marketing', 'Marketing'],\n",
    "    'Salary': [65000, 67000]\n",
    "})\n",
    "\n",
    "print(df_dept1)\n",
    "df_dept2\n",
    "\n",
    "df_employees = pd.concat([df_dept1, df_dept2],ignore_index = True)"
   ]
  },
  {
   "cell_type": "markdown",
   "metadata": {
    "id": "6_45vWI-IHpa"
   },
   "source": [
    "### `rename()`\n",
    "- **Purpose**: Changes column names to more meaningful or standardized labels.\n",
    "- **Key Parameter**:\n",
    "    - `columns`: A dictionary mapping old column names to new names."
   ]
  },
  {
   "cell_type": "code",
   "execution_count": 2,
   "metadata": {
    "id": "fd063VWFEerp"
   },
   "outputs": [
    {
     "data": {
      "text/html": [
       "<div>\n",
       "<style scoped>\n",
       "    .dataframe tbody tr th:only-of-type {\n",
       "        vertical-align: middle;\n",
       "    }\n",
       "\n",
       "    .dataframe tbody tr th {\n",
       "        vertical-align: top;\n",
       "    }\n",
       "\n",
       "    .dataframe thead th {\n",
       "        text-align: right;\n",
       "    }\n",
       "</style>\n",
       "<table border=\"1\" class=\"dataframe\">\n",
       "  <thead>\n",
       "    <tr style=\"text-align: right;\">\n",
       "      <th></th>\n",
       "      <th>Emp_ID</th>\n",
       "      <th>Emp_Name</th>\n",
       "      <th>Dept</th>\n",
       "      <th>Annual_Salary</th>\n",
       "    </tr>\n",
       "  </thead>\n",
       "  <tbody>\n",
       "    <tr>\n",
       "      <th>0</th>\n",
       "      <td>101</td>\n",
       "      <td>Alice</td>\n",
       "      <td>Sales</td>\n",
       "      <td>60000</td>\n",
       "    </tr>\n",
       "    <tr>\n",
       "      <th>1</th>\n",
       "      <td>102</td>\n",
       "      <td>Bob</td>\n",
       "      <td>Sales</td>\n",
       "      <td>62000</td>\n",
       "    </tr>\n",
       "    <tr>\n",
       "      <th>2</th>\n",
       "      <td>103</td>\n",
       "      <td>Michael</td>\n",
       "      <td>Sales</td>\n",
       "      <td>61000</td>\n",
       "    </tr>\n",
       "    <tr>\n",
       "      <th>3</th>\n",
       "      <td>104</td>\n",
       "      <td>David</td>\n",
       "      <td>Marketing</td>\n",
       "      <td>65000</td>\n",
       "    </tr>\n",
       "    <tr>\n",
       "      <th>4</th>\n",
       "      <td>105</td>\n",
       "      <td>Henry</td>\n",
       "      <td>Marketing</td>\n",
       "      <td>67000</td>\n",
       "    </tr>\n",
       "  </tbody>\n",
       "</table>\n",
       "</div>"
      ],
      "text/plain": [
       "   Emp_ID Emp_Name       Dept  Annual_Salary\n",
       "0     101    Alice      Sales          60000\n",
       "1     102      Bob      Sales          62000\n",
       "2     103  Michael      Sales          61000\n",
       "3     104    David  Marketing          65000\n",
       "4     105    Henry  Marketing          67000"
      ]
     },
     "execution_count": 2,
     "metadata": {},
     "output_type": "execute_result"
    }
   ],
   "source": [
    "# Rename columns to more descriptive names\n",
    "df_employees_renamed = df_employees.rename(columns = {'EmployeeID': 'Emp_ID', \n",
    "                               'Name': 'Emp_Name',\n",
    "                               'Department': 'Dept',\n",
    "                               'Salary': 'Annual_Salary'})\n",
    "df_employees_renamed\n"
   ]
  },
  {
   "cell_type": "markdown",
   "metadata": {
    "id": "vHt823y8IUBw"
   },
   "source": [
    "### `sort_values()`\n",
    "- **Purpose**: Sorts the DataFrame by a specific column.\n",
    "- **Key Parameter**:\n",
    "    - `by`: Specifies the column(s) to sort by.\n",
    "    - `ascending`: When set to `False` sorts the data in descending order."
   ]
  },
  {
   "cell_type": "code",
   "execution_count": 3,
   "metadata": {
    "id": "MED8LAAeEg-G"
   },
   "outputs": [
    {
     "data": {
      "text/html": [
       "<div>\n",
       "<style scoped>\n",
       "    .dataframe tbody tr th:only-of-type {\n",
       "        vertical-align: middle;\n",
       "    }\n",
       "\n",
       "    .dataframe tbody tr th {\n",
       "        vertical-align: top;\n",
       "    }\n",
       "\n",
       "    .dataframe thead th {\n",
       "        text-align: right;\n",
       "    }\n",
       "</style>\n",
       "<table border=\"1\" class=\"dataframe\">\n",
       "  <thead>\n",
       "    <tr style=\"text-align: right;\">\n",
       "      <th></th>\n",
       "      <th>Emp_ID</th>\n",
       "      <th>Emp_Name</th>\n",
       "      <th>Dept</th>\n",
       "      <th>Annual_Salary</th>\n",
       "    </tr>\n",
       "  </thead>\n",
       "  <tbody>\n",
       "    <tr>\n",
       "      <th>4</th>\n",
       "      <td>105</td>\n",
       "      <td>Henry</td>\n",
       "      <td>Marketing</td>\n",
       "      <td>67000</td>\n",
       "    </tr>\n",
       "    <tr>\n",
       "      <th>3</th>\n",
       "      <td>104</td>\n",
       "      <td>David</td>\n",
       "      <td>Marketing</td>\n",
       "      <td>65000</td>\n",
       "    </tr>\n",
       "    <tr>\n",
       "      <th>1</th>\n",
       "      <td>102</td>\n",
       "      <td>Bob</td>\n",
       "      <td>Sales</td>\n",
       "      <td>62000</td>\n",
       "    </tr>\n",
       "    <tr>\n",
       "      <th>2</th>\n",
       "      <td>103</td>\n",
       "      <td>Michael</td>\n",
       "      <td>Sales</td>\n",
       "      <td>61000</td>\n",
       "    </tr>\n",
       "    <tr>\n",
       "      <th>0</th>\n",
       "      <td>101</td>\n",
       "      <td>Alice</td>\n",
       "      <td>Sales</td>\n",
       "      <td>60000</td>\n",
       "    </tr>\n",
       "  </tbody>\n",
       "</table>\n",
       "</div>"
      ],
      "text/plain": [
       "   Emp_ID Emp_Name       Dept  Annual_Salary\n",
       "4     105    Henry  Marketing          67000\n",
       "3     104    David  Marketing          65000\n",
       "1     102      Bob      Sales          62000\n",
       "2     103  Michael      Sales          61000\n",
       "0     101    Alice      Sales          60000"
      ]
     },
     "execution_count": 3,
     "metadata": {},
     "output_type": "execute_result"
    }
   ],
   "source": [
    "# Sort by Annual_Salary in descending order\n",
    "df_employees_renamed.sort_values(by = 'Annual_Salary', ascending = False)"
   ]
  },
  {
   "cell_type": "markdown",
   "metadata": {
    "id": "8ZntpkBqIjrz"
   },
   "source": [
    "## Section 2: Method Chaining"
   ]
  },
  {
   "cell_type": "markdown",
   "metadata": {
    "id": "BF4iWf3OIlWD"
   },
   "source": [
    "### **Concept**: Combining several DataFrame operations into one continuous expression.\n",
    "\n",
    "### **Advantages**:\n",
    "- Improves readability and conciseness.\n",
    "- Reduces the need for intermediate variables.\n",
    "\n",
    "### Steps in this chain:\n",
    "- **Concatenation**: Merges the two department DataFrames.\n",
    "- **Renaming**: Standardizes column names.\n",
    "- **Sorting**: Orders the DataFrame by annual salary in descending order."
   ]
  },
  {
   "cell_type": "code",
   "execution_count": 4,
   "metadata": {
    "id": "Vomj3s-3EyBM"
   },
   "outputs": [
    {
     "data": {
      "text/html": [
       "<div>\n",
       "<style scoped>\n",
       "    .dataframe tbody tr th:only-of-type {\n",
       "        vertical-align: middle;\n",
       "    }\n",
       "\n",
       "    .dataframe tbody tr th {\n",
       "        vertical-align: top;\n",
       "    }\n",
       "\n",
       "    .dataframe thead th {\n",
       "        text-align: right;\n",
       "    }\n",
       "</style>\n",
       "<table border=\"1\" class=\"dataframe\">\n",
       "  <thead>\n",
       "    <tr style=\"text-align: right;\">\n",
       "      <th></th>\n",
       "      <th>Emp_ID</th>\n",
       "      <th>Emp_Name</th>\n",
       "      <th>Dept</th>\n",
       "      <th>Annual_Salary</th>\n",
       "    </tr>\n",
       "  </thead>\n",
       "  <tbody>\n",
       "    <tr>\n",
       "      <th>4</th>\n",
       "      <td>105</td>\n",
       "      <td>Henry</td>\n",
       "      <td>Marketing</td>\n",
       "      <td>67000</td>\n",
       "    </tr>\n",
       "    <tr>\n",
       "      <th>3</th>\n",
       "      <td>104</td>\n",
       "      <td>David</td>\n",
       "      <td>Marketing</td>\n",
       "      <td>65000</td>\n",
       "    </tr>\n",
       "    <tr>\n",
       "      <th>1</th>\n",
       "      <td>102</td>\n",
       "      <td>Bob</td>\n",
       "      <td>Sales</td>\n",
       "      <td>62000</td>\n",
       "    </tr>\n",
       "    <tr>\n",
       "      <th>2</th>\n",
       "      <td>103</td>\n",
       "      <td>Michael</td>\n",
       "      <td>Sales</td>\n",
       "      <td>61000</td>\n",
       "    </tr>\n",
       "    <tr>\n",
       "      <th>0</th>\n",
       "      <td>101</td>\n",
       "      <td>Alice</td>\n",
       "      <td>Sales</td>\n",
       "      <td>60000</td>\n",
       "    </tr>\n",
       "  </tbody>\n",
       "</table>\n",
       "</div>"
      ],
      "text/plain": [
       "   Emp_ID Emp_Name       Dept  Annual_Salary\n",
       "4     105    Henry  Marketing          67000\n",
       "3     104    David  Marketing          65000\n",
       "1     102      Bob      Sales          62000\n",
       "2     103  Michael      Sales          61000\n",
       "0     101    Alice      Sales          60000"
      ]
     },
     "execution_count": 4,
     "metadata": {},
     "output_type": "execute_result"
    }
   ],
   "source": [
    "import pandas as pd\n",
    "\n",
    "# Department 1 data\n",
    "df_dept1 = pd.DataFrame({\n",
    "    'EmployeeID': [101, 102, 103],\n",
    "    'Name': ['Alice', 'Bob', 'Michael'],\n",
    "    'Department': ['Sales', 'Sales', 'Sales'],\n",
    "    'Salary': [60000, 62000, 61000]\n",
    "})\n",
    "\n",
    "# Department 2 data\n",
    "df_dept2 = pd.DataFrame({\n",
    "    'EmployeeID': [104, 105],\n",
    "    'Name': ['David', 'Henry'],\n",
    "    'Department': ['Marketing', 'Marketing'],\n",
    "    'Salary': [65000, 67000]\n",
    "})\n",
    "\n",
    "# Method chaining: Combine, rename, and sort in descending order of salary.\n",
    "\n",
    "df_employees1 =(pd.concat([df_dept1, df_dept2], ignore_index=True).rename(columns = {'EmployeeID': 'Emp_ID', \n",
    "                               'Name': 'Emp_Name',\n",
    "                               'Department': 'Dept',\n",
    "                               'Salary': 'Annual_Salary'}).sort_values(by = 'Annual_Salary', ascending = False))\n",
    "df_employees1"
   ]
  },
  {
   "cell_type": "markdown",
   "metadata": {
    "id": "bv35Qs3iI6_j"
   },
   "source": [
    "## Group Activity: Cleaning an Untidy Sales Dataset Using Method Chaining"
   ]
  },
  {
   "cell_type": "markdown",
   "metadata": {
    "id": "E4t67jTUJDKq"
   },
   "source": [
    "### Method Chaining Instructions:\n",
    "- Remove duplicates.\n",
    "- Fill missing values with 0.\n",
    "- Reshape the DataFrame from wide to long format.\n",
    "- Sort the final DataFrame."
   ]
  },
  {
   "cell_type": "code",
   "execution_count": 9,
   "metadata": {
    "id": "6ajePSEdE0qa"
   },
   "outputs": [
    {
     "name": "stdout",
     "output_type": "stream",
     "text": [
      "Expanded df_sales DataFrame:\n",
      "     Product   Region  Sales_Q1  Sales_Q2  Sales_Q3  Sales_Q4\n",
      "0   Widget A    North     100.0     110.0     105.0     115.0\n",
      "1   Widget B    South     200.0       NaN     205.0     215.0\n",
      "2   Widget A    North     100.0     110.0     105.0     115.0\n",
      "3   Widget C     East     150.0     160.0       NaN     165.0\n",
      "4   Widget B    South       NaN     210.0     215.0     225.0\n",
      "5   Widget A    North     100.0     110.0     105.0       NaN\n",
      "6   Widget D     West     180.0     185.0     175.0     190.0\n",
      "7   Widget E     East     210.0     220.0     205.0     215.0\n",
      "8   Widget C  Central     140.0     150.0     145.0     155.0\n",
      "9   Widget D    North     190.0     200.0     195.0     205.0\n",
      "10  Widget B     West     205.0     215.0     210.0     220.0\n",
      "11  Widget E    South     220.0     230.0     225.0     235.0\n",
      "     Product   Region  variable  value\n",
      "0   Widget A    North  Sales_Q1  100.0\n",
      "4   Widget A    North  Sales_Q1  100.0\n",
      "11  Widget A    North  Sales_Q2  110.0\n",
      "15  Widget A    North  Sales_Q2  110.0\n",
      "22  Widget A    North  Sales_Q3  105.0\n",
      "26  Widget A    North  Sales_Q3  105.0\n",
      "33  Widget A    North  Sales_Q4  115.0\n",
      "37  Widget A    North  Sales_Q4    0.0\n",
      "1   Widget B    South  Sales_Q1  200.0\n",
      "3   Widget B    South  Sales_Q1    0.0\n",
      "12  Widget B    South  Sales_Q2    0.0\n",
      "14  Widget B    South  Sales_Q2  210.0\n",
      "23  Widget B    South  Sales_Q3  205.0\n",
      "25  Widget B    South  Sales_Q3  215.0\n",
      "34  Widget B    South  Sales_Q4  215.0\n",
      "36  Widget B    South  Sales_Q4  225.0\n",
      "9   Widget B     West  Sales_Q1  205.0\n",
      "20  Widget B     West  Sales_Q2  215.0\n",
      "31  Widget B     West  Sales_Q3  210.0\n",
      "42  Widget B     West  Sales_Q4  220.0\n",
      "7   Widget C  Central  Sales_Q1  140.0\n",
      "18  Widget C  Central  Sales_Q2  150.0\n",
      "29  Widget C  Central  Sales_Q3  145.0\n",
      "40  Widget C  Central  Sales_Q4  155.0\n",
      "2   Widget C     East  Sales_Q1  150.0\n",
      "13  Widget C     East  Sales_Q2  160.0\n",
      "24  Widget C     East  Sales_Q3    0.0\n",
      "35  Widget C     East  Sales_Q4  165.0\n",
      "8   Widget D    North  Sales_Q1  190.0\n",
      "19  Widget D    North  Sales_Q2  200.0\n",
      "30  Widget D    North  Sales_Q3  195.0\n",
      "41  Widget D    North  Sales_Q4  205.0\n",
      "5   Widget D     West  Sales_Q1  180.0\n",
      "16  Widget D     West  Sales_Q2  185.0\n",
      "27  Widget D     West  Sales_Q3  175.0\n",
      "38  Widget D     West  Sales_Q4  190.0\n",
      "6   Widget E     East  Sales_Q1  210.0\n",
      "17  Widget E     East  Sales_Q2  220.0\n",
      "28  Widget E     East  Sales_Q3  205.0\n",
      "39  Widget E     East  Sales_Q4  215.0\n",
      "10  Widget E    South  Sales_Q1  220.0\n",
      "21  Widget E    South  Sales_Q2  230.0\n",
      "32  Widget E    South  Sales_Q3  225.0\n",
      "43  Widget E    South  Sales_Q4  235.0\n"
     ]
    }
   ],
   "source": [
    "import pandas as pd\n",
    "\n",
    "df_sales = pd.DataFrame({\n",
    "    'Product': [\n",
    "        'Widget A', 'Widget B', 'Widget A', 'Widget C',\n",
    "        'Widget B', 'Widget A', 'Widget D', 'Widget E',\n",
    "        'Widget C', 'Widget D', 'Widget B', 'Widget E'\n",
    "    ],\n",
    "    'Region': [\n",
    "        'North', 'South', 'North', 'East',\n",
    "        'South', 'North', 'West', 'East',\n",
    "        'Central', 'North', 'West', 'South'\n",
    "    ],\n",
    "    'Sales_Q1': [100, 200, 100, 150, None, 100, 180, 210, 140, 190, 205, 220],\n",
    "    'Sales_Q2': [110, None, 110, 160, 210, 110, 185, 220, 150, 200, 215, 230],\n",
    "    'Sales_Q3': [105, 205, 105, None, 215, 105, 175, 205, 145, 195, 210, 225],\n",
    "    'Sales_Q4': [115, 215, 115, 165, 225, None, 190, 215, 155, 205, 220, 235]\n",
    "})\n",
    "\n",
    "print(\"Expanded df_sales DataFrame:\")\n",
    "print(df_sales)\n",
    "\n",
    "\n",
    "# Method chaining: Clean the dataset in one pipeline.\n",
    "df_sales1 = df_sales.drop_duplicates().fillna(0).melt(id_vars = ['Product', 'Region'], value_vars = df_sales.columns[2:]).sort_values(by =\n",
    "                                                            ['Product', 'Region'])\n",
    "\n",
    "print(df_sales1)"
   ]
  },
  {
   "cell_type": "code",
   "execution_count": 6,
   "metadata": {
    "id": "86hM-4tPKkZA"
   },
   "outputs": [],
   "source": [
    "# Create a pivot table that calculates the sum of sales per Product per Region\n"
   ]
  },
  {
   "cell_type": "markdown",
   "metadata": {
    "id": "7FhmsWn4KWmg"
   },
   "source": []
  }
 ],
 "metadata": {
  "colab": {
   "authorship_tag": "ABX9TyPxt7Ld7kBXfU0dOgI5OtUb",
   "provenance": [],
   "toc_visible": true
  },
  "kernelspec": {
   "display_name": "base",
   "language": "python",
   "name": "python3"
  },
  "language_info": {
   "codemirror_mode": {
    "name": "ipython",
    "version": 3
   },
   "file_extension": ".py",
   "mimetype": "text/x-python",
   "name": "python",
   "nbconvert_exporter": "python",
   "pygments_lexer": "ipython3",
   "version": "3.12.7"
  }
 },
 "nbformat": 4,
 "nbformat_minor": 0
}
